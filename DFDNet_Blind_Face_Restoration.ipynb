{
  "nbformat": 4,
  "nbformat_minor": 0,
  "metadata": {
    "colab": {
      "name": "DFDNet Blind Face Restoration",
      "provenance": [],
      "toc_visible": true,
      "authorship_tag": "ABX9TyMgQ8aFRdFNp2x2gUPlfPCJ",
      "include_colab_link": true
    },
    "kernelspec": {
      "name": "python3",
      "display_name": "Python 3"
    },
    "accelerator": "GPU"
  },
  "cells": [
    {
      "cell_type": "markdown",
      "metadata": {
        "id": "view-in-github",
        "colab_type": "text"
      },
      "source": [
        "<a href=\"https://colab.research.google.com/github/hopperrr/DFDNet_Colab/blob/master/DFDNet_Blind_Face_Restoration.ipynb\" target=\"_parent\"><img src=\"https://colab.research.google.com/assets/colab-badge.svg\" alt=\"Open In Colab\"/></a>"
      ]
    },
    {
      "cell_type": "markdown",
      "metadata": {
        "id": "xChtHKfcI5h4",
        "colab_type": "text"
      },
      "source": [
        "A Colab for the Great \"DFDNet\".\n",
        "\n",
        "https://github.com/csxmli2016/DFDNet\n",
        "\n",
        "\"Blind Face Restoration via Deep Multi-scale Component Dictionaries\"\n",
        "\n",
        "\n",
        "The instructions from Github and this fantastic [YouTube](https://www.youtube.com/watch?v=OTqGYMSKGF4) were slightly modified for use in Google Colab.\n",
        "\n",
        "Make sure and choose a \"GPU\" as a runtime option for this notebook."
      ]
    },
    {
      "cell_type": "code",
      "metadata": {
        "id": "GETEjyBz4cFj",
        "colab_type": "code",
        "colab": {}
      },
      "source": [
        "!git clone https://github.com/csxmli2016/DFDNet.git"
      ],
      "execution_count": null,
      "outputs": []
    },
    {
      "cell_type": "code",
      "metadata": {
        "id": "uPkg_8zUl46n",
        "colab_type": "code",
        "colab": {}
      },
      "source": [
        "!mkdir /content/DFDNet/checkpoints/\n",
        "!mkdir /content/DFDNet/checkpoints/facefh_dictionary\n",
        "!mkdir /content/DFDNet/weights/\n",
        "!mkdir /content/DFDNet/DictionaryCenter512/"
      ],
      "execution_count": null,
      "outputs": []
    },
    {
      "cell_type": "code",
      "metadata": {
        "id": "2E0pBF2tjnKr",
        "colab_type": "code",
        "colab": {}
      },
      "source": [
        "from google.colab import drive\n",
        "drive.mount('/gdrive')"
      ],
      "execution_count": null,
      "outputs": []
    },
    {
      "cell_type": "markdown",
      "metadata": {
        "id": "yaaoOD5JfzH0",
        "colab_type": "text"
      },
      "source": [
        "The files found here need to be added to this colab:\n",
        "\n",
        "[Google Drive](https://drive.google.com/drive/folders/1bayYIUMCSGmoFPyd4Uu2Uwn347RW-vl5?usp=sharing)\n",
        "\n",
        "To do this, open this shared folder in Google Drive and right click it and select \"add shortcut to Drive\". This will allow you to copy the contents over to this notebook. There are probably better ways to do this, but it works for me. You could also download the contents to your local drive, but that's even more kludgy than my setup. The next section allows you to copy the needed files."
      ]
    },
    {
      "cell_type": "code",
      "metadata": {
        "id": "Qv7paiwUkcId",
        "colab_type": "code",
        "colab": {}
      },
      "source": [
        "!cp '/gdrive/My Drive/DFDNet/checkpoints/facefh_dictionary/latest_net_G.pth' '/content/DFDNet/checkpoints/facefh_dictionary'\n",
        "!cp '/gdrive/My Drive/DFDNet/weights/vgg19.pth' '/content/DFDNet/weights/'\n",
        "!cp -r '/gdrive/My Drive/DFDNet/DictionaryCenter512/' '/content/DFDNet/'"
      ],
      "execution_count": null,
      "outputs": []
    },
    {
      "cell_type": "code",
      "metadata": {
        "id": "NgbXhurz5iLw",
        "colab_type": "code",
        "colab": {}
      },
      "source": [
        "#!pip install dlib\n",
        "#!pip install opencv-python\n",
        "#!pip install tqdm\n",
        "#!pip install scikit-image\n",
        "!pip install dominate"
      ],
      "execution_count": null,
      "outputs": []
    },
    {
      "cell_type": "markdown",
      "metadata": {
        "id": "u-BWDDxQiVwb",
        "colab_type": "text"
      },
      "source": [
        "Add images you would like to restore into this folder:\n",
        "\n",
        "/content/DFDNet/TestData/TestWhole/\n",
        "\n",
        "This can be done by choosing to view the Table of Contents for this notebook. Find that folder in the folder directory to the left, select the dropdown and choose \"Upload\"."
      ]
    },
    {
      "cell_type": "code",
      "metadata": {
        "id": "MiQPmN0jxbgk",
        "colab_type": "code",
        "colab": {}
      },
      "source": [
        "import os\n",
        "os.chdir('/content/DFDNet/FaceLandmarkDetection/')\n",
        "!python setup.py install"
      ],
      "execution_count": null,
      "outputs": []
    },
    {
      "cell_type": "markdown",
      "metadata": {
        "id": "G6px00irh-HV",
        "colab_type": "text"
      },
      "source": [
        "The following is what you run to make a restoration of a face found in an image:"
      ]
    },
    {
      "cell_type": "code",
      "metadata": {
        "id": "2kK3PNYvyD5i",
        "colab_type": "code",
        "colab": {}
      },
      "source": [
        "os.chdir('/content/DFDNet/')\n",
        "!python test_FaceDict.py"
      ],
      "execution_count": null,
      "outputs": []
    },
    {
      "cell_type": "markdown",
      "metadata": {
        "id": "M0Zje3_Ehfm9",
        "colab_type": "text"
      },
      "source": [
        "Run the following if you want to clear out the input and results of your last run."
      ]
    },
    {
      "cell_type": "code",
      "metadata": {
        "id": "YsM7boVS6_5T",
        "colab_type": "code",
        "colab": {}
      },
      "source": [
        "!rm -r /content/DFDNet/Results/TestWholeResults/Step0_Input/*\n",
        "!rm -r /content/DFDNet/Results/TestWholeResults/Step1_AffineParam/*\n",
        "!rm -r /content/DFDNet/Results/TestWholeResults/Step1_CropImg/*\n",
        "!rm -r /content/DFDNet/Results/TestWholeResults/Step2_Landmarks/*\n",
        "!rm -r /content/DFDNet/Results/TestWholeResults/Step3_RestoreCropFace/*\n",
        "!rm -r /content/DFDNet/Results/TestWholeResults/Step4_FinalResults/*\n",
        "!rm -r /content/DFDNet/TestData/TestWhole/*\n"
      ],
      "execution_count": null,
      "outputs": []
    }
  ]
}